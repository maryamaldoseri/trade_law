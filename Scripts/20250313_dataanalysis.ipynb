{
  "metadata": {
    "kernelspec": {
      "name": "python",
      "display_name": "Python (Pyodide)",
      "language": "python"
    },
    "language_info": {
      "codemirror_mode": {
        "name": "python",
        "version": 3
      },
      "file_extension": ".py",
      "mimetype": "text/x-python",
      "name": "python",
      "nbconvert_exporter": "python",
      "pygments_lexer": "ipython3",
      "version": "3.8"
    }
  },
  "nbformat_minor": 5,
  "nbformat": 4,
  "cells": [
    {
      "id": "7a5591f4-a3ff-4bc8-99c7-05a3aafd0609",
      "cell_type": "markdown",
      "source": "# Contact Information",
      "metadata": {}
    },
    {
      "id": "a4d9b900-fa6e-4c57-b9b1-5f363f2a7940",
      "cell_type": "markdown",
      "source": "Author: Maryam AlDoseri\n\nContact: maryam.aldoseri@students.unibe.ch\n\nDate: 13.03.2025",
      "metadata": {}
    },
    {
      "id": "dba86bb9-e38c-4d59-96fa-ac65bf3fdaa4",
      "cell_type": "markdown",
      "source": "# Analysis",
      "metadata": {}
    },
    {
      "id": "eaa57ee6-38c1-4f11-bdff-5355b8242274",
      "cell_type": "markdown",
      "source": "This is the computiation of bunny fur color\n\n* Bunny 1\n* Bunny 2\n* Bunny 3",
      "metadata": {}
    },
    {
      "id": "421b623e-b425-44b5-932e-b25fb5f8ee4c",
      "cell_type": "code",
      "source": "Temperature=234+4545",
      "metadata": {
        "trusted": true
      },
      "outputs": [],
      "execution_count": 1
    },
    {
      "id": "4fd777da-a567-473a-af78-32a271962d79",
      "cell_type": "code",
      "source": "Temperature",
      "metadata": {
        "trusted": true
      },
      "outputs": [
        {
          "execution_count": 2,
          "output_type": "execute_result",
          "data": {
            "text/plain": "4779"
          },
          "metadata": {}
        }
      ],
      "execution_count": 2
    },
    {
      "id": "6e207211-3648-4ea6-8777-04e79b22b80d",
      "cell_type": "code",
      "source": "",
      "metadata": {
        "trusted": true
      },
      "outputs": [],
      "execution_count": null
    }
  ]
}